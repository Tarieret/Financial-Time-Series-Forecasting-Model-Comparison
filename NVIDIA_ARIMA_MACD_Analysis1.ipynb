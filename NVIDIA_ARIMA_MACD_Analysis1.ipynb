{
 "cells": [
  {
   "cell_type": "markdown",
   "metadata": {
    "id": "nR5wz5G9jGKU"
   },
   "source": [
    "# Data Extracting"
   ]
  },
  {
   "cell_type": "code",
   "execution_count": 5,
   "metadata": {
    "executionInfo": {
     "elapsed": 407,
     "status": "ok",
     "timestamp": 1761683209320,
     "user": {
      "displayName": "Tariere Timitimi",
      "userId": "04349166144191865504"
     },
     "user_tz": 240
    },
    "id": "JUH5EImJblH_"
   },
   "outputs": [],
   "source": [
    "# Imports & Setup\n",
    "import os\n",
    "import json\n",
    "import math\n",
    "import time\n",
    "import requests\n",
    "import numpy as np\n",
    "import pandas as pd\n",
    "import matplotlib.pyplot as plt\n",
    "from typing import Tuple\n",
    "import yfinance as yf\n",
    "import pandas as pd\n",
    "from pandas.tseries.offsets import BDay\n",
    "from getpass import getpass\n",
    "\n",
    "from statsmodels.tsa.stattools import adfuller, kpss\n",
    "from statsmodels.graphics.tsaplots import plot_acf, plot_pacf\n",
    "from statsmodels.tsa.arima.model import ARIMA\n",
    "from statsmodels.stats.diagnostic import acorr_ljungbox\n",
    "\n",
    "ALPHAVANTAGE_API_KEY = getpass('Enter your Alpha Vantage API Key: ')"
   ]
  },
  {
   "cell_type": "code",
   "execution_count": 6,
   "metadata": {
    "colab": {
     "base_uri": "https://localhost:8080/"
    },
    "executionInfo": {
     "elapsed": 16,
     "status": "ok",
     "timestamp": 1761683216494,
     "user": {
      "displayName": "Tariere Timitimi",
      "userId": "04349166144191865504"
     },
     "user_tz": 240
    },
    "id": "Vztfk19-g_x8",
    "outputId": "dc9de5f4-69ae-4642-da9f-d37969ca0a31"
   },
   "outputs": [
    {
     "name": "stdout",
     "output_type": "stream",
     "text": [
      "('2021-01-01', '2022-12-02')\n",
      "('2021-01-08', '2021-01-15')\n"
     ]
    }
   ],
   "source": [
    "def get_date_range_by_business_days(start_date_str: str, num_periods: int) -> tuple[str, str]:\n",
    "    \"\"\"\n",
    "    Given a start date string and a number of business days, returns a tuple\n",
    "    of two date strings (start_date, end_date) where end_date is num_periods\n",
    "    business days from start_date. If num_periods is negative, the dates are\n",
    "    swapped to ensure the first date is before the second.\n",
    "\n",
    "    Args:\n",
    "        start_date_str: The starting date as a string in 'YYYY-MM-DD' format.\n",
    "        num_periods: The number of business days to add (can be negative).\n",
    "\n",
    "    Returns:\n",
    "        A tuple of two date strings (date1, date2) where date1 <= date2.\n",
    "    \"\"\"\n",
    "    start_date = pd.to_datetime(start_date_str)\n",
    "\n",
    "    if num_periods >= 0:\n",
    "        end_date = start_date + BDay(num_periods)\n",
    "        date1_str = start_date.strftime('%Y-%m-%d')\n",
    "        date2_str = end_date.strftime('%Y-%m-%d')\n",
    "    else:\n",
    "        end_date = start_date + BDay(num_periods)\n",
    "        date1_str = end_date.strftime('%Y-%m-%d')\n",
    "        date2_str = start_date.strftime('%Y-%m-%d')\n",
    "\n",
    "    return (date1_str, date2_str)\n",
    "\n",
    "print(get_date_range_by_business_days('2021-01-01', 500))\n",
    "print(get_date_range_by_business_days('2021-01-15', -5))"
   ]
  },
  {
   "cell_type": "code",
   "execution_count": 7,
   "metadata": {
    "executionInfo": {
     "elapsed": 5,
     "status": "ok",
     "timestamp": 1761683218830,
     "user": {
      "displayName": "Tariere Timitimi",
      "userId": "04349166144191865504"
     },
     "user_tz": 240
    },
    "id": "Y5pJ2tI8eHi2"
   },
   "outputs": [],
   "source": [
    "def get_stock_data(symbol: str, start_date: str = None, end_date: str = None) -> pd.DataFrame:\n",
    "    \"\"\"\n",
    "    Downloads Yahoo Finance historical data for a single stock symbol.\n",
    "\n",
    "    Args:\n",
    "        symbol: The stock ticker symbol.\n",
    "        start_date: Optional start date string in 'YYYY-MM-DD' format.\n",
    "        end_date: Optional end date string in 'YYYY-MM-DD' format.\n",
    "\n",
    "    Returns:\n",
    "        A pandas DataFrame with Date as the index and columns for open, high,\n",
    "        low, close, adjusted_close, and volume, all in lowercase.\n",
    "    \"\"\"\n",
    "    # Download data for the single symbol\n",
    "    df = yf.download(symbol, start=start_date, end=end_date, auto_adjust=False, progress=False)\n",
    "\n",
    "    # Ensure Date is the index (it usually is by default with yfinance)\n",
    "    if 'Date' in df.columns:\n",
    "        df = df.set_index('Date')\n",
    "\n",
    "    # Handle potential MultiIndex columns by flattening before lowercasing\n",
    "    if isinstance(df.columns, pd.MultiIndex):\n",
    "        df.columns = [col[0] for col in df.columns.values] # Flatten MultiIndex to string\n",
    "\n",
    "    # Convert column names to lowercase\n",
    "    df.columns = df.columns.str.lower()\n",
    "\n",
    "    # Rename 'adj close' to 'adjusted_close' if it exists\n",
    "    if 'adj close' in df.columns:\n",
    "        df = df.rename(columns={'adj close': 'adjusted_close'})\n",
    "\n",
    "    # Select and reorder relevant columns\n",
    "    # Ensure all expected columns exist before selecting\n",
    "    required_cols = ['open', 'high', 'low', 'close', 'adjusted_close', 'volume']\n",
    "    for col in required_cols:\n",
    "        if col not in df.columns:\n",
    "            # Handle cases where a column might be missing (e.g., for very new stocks)\n",
    "            # For this context, we might raise an error or log a warning\n",
    "            print(f\"Warning: Column '{col}' not found for symbol {symbol}. Skipping.\")\n",
    "            # Or, add the column with NaNs\n",
    "            # df[col] = np.nan\n",
    "\n",
    "    # Filter for required columns that are actually present\n",
    "    cols_to_select = [col for col in required_cols if col in df.columns]\n",
    "    df = df[cols_to_select]\n",
    "\n",
    "\n",
    "    return df"
   ]
  },
  {
   "cell_type": "code",
   "execution_count": 8,
   "metadata": {
    "colab": {
     "base_uri": "https://localhost:8080/"
    },
    "executionInfo": {
     "elapsed": 10,
     "status": "ok",
     "timestamp": 1761683221890,
     "user": {
      "displayName": "Tariere Timitimi",
      "userId": "04349166144191865504"
     },
     "user_tz": 240
    },
    "id": "Yo7y6f-lo47V",
    "outputId": "c3cd349e-b5f0-4779-e5af-a783612e7f14"
   },
   "outputs": [
    {
     "name": "stdout",
     "output_type": "stream",
     "text": [
      "API key detected.\n",
      "Using symbol: NVDA\n"
     ]
    }
   ],
   "source": [
    "# Setting up the stock symbol to use and the periods to consider\n",
    "tickers = [\"NVDA\", \"FSLR\", \"MSFT\", \"TSLA\", \"SPY\"] # Possible stocks to analyze\n",
    "SYMBOL = tickers[0]  # Choose NVIDIA for this analysis\n",
    "PERIODS = 500\n",
    "START_DATE = '2025-06-01' # Changed start date\n",
    "\n",
    "# Optional: compact vs full (full returns all history, compact ~100 days)\n",
    "OUTPUT_SIZE = \"full\"  # \"full\" or \"compact\"\n",
    "\n",
    "# Basic validation\n",
    "if ALPHAVANTAGE_API_KEY == \"REPLACE_WITH_YOUR_KEY\":\n",
    "    print(\"Please set ALPHAVANTAGE_API_KEY (above) to your real Alpha Vantage key.\")\n",
    "else:\n",
    "    print(\"API key detected.\")\n",
    "print(f\"Using symbol: {SYMBOL}\")"
   ]
  },
  {
   "cell_type": "code",
   "execution_count": 9,
   "metadata": {
    "colab": {
     "base_uri": "https://localhost:8080/"
    },
    "executionInfo": {
     "elapsed": 8,
     "status": "ok",
     "timestamp": 1761683223635,
     "user": {
      "displayName": "Tariere Timitimi",
      "userId": "04349166144191865504"
     },
     "user_tz": 240
    },
    "id": "gZb5NMRDeQR-",
    "outputId": "16643960-71d7-4d2e-8caa-40d465f79427"
   },
   "outputs": [
    {
     "name": "stdout",
     "output_type": "stream",
     "text": [
      "                  open        high         low       close  adjusted_close  \\\n",
      "Date                                                                         \n",
      "2025-06-02  135.490005  138.119995  135.399994  137.380005      137.362717   \n",
      "2025-06-03  138.779999  142.000000  137.949997  141.220001      141.202225   \n",
      "2025-06-04  142.190002  142.389999  139.539993  141.919998      141.902145   \n",
      "\n",
      "               volume  \n",
      "Date                   \n",
      "2025-06-02  197663100  \n",
      "2025-06-03  225578800  \n",
      "2025-06-04  167120800  \n",
      "                  open        high         low       close  adjusted_close  \\\n",
      "Date                                                                         \n",
      "2025-08-27  181.979996  182.490005  179.100006  181.600006      181.589767   \n",
      "2025-08-28  180.820007  184.470001  176.410004  180.169998      180.159836   \n",
      "2025-08-29  178.110001  178.149994  173.149994  174.179993      174.170166   \n",
      "\n",
      "               volume  \n",
      "Date                   \n",
      "2025-08-27  235518900  \n",
      "2025-08-28  281787800  \n",
      "2025-08-29  243257900  \n"
     ]
    }
   ],
   "source": [
    "def fetch_alpha_vantage_daily_adjusted(symbol: str, apikey: str, output_size: str = \"compact\", start_date: str = None, end_date: str = None) -> pd.DataFrame:\n",
    "    \"\"\"\n",
    "    Fetch TIME_SERIES_DAILY_ADJUSTED from Alpha Vantage.\n",
    "    Returns a DataFrame with columns: ['open','high','low','close','adjusted_close','volume','dividend_amount','split_coefficient']\n",
    "    indexed by pandas datetime in ascending order, filtered by start and end dates if provided.\n",
    "    \"\"\"\n",
    "    url = \"https://www.alphavantage.co/query\"\n",
    "    params = {\n",
    "        \"function\": \"TIME_SERIES_DAILY_ADJUSTED\",\n",
    "        \"symbol\": symbol,\n",
    "        \"apikey\": apikey,\n",
    "        \"outputsize\": output_size\n",
    "    }\n",
    "    r = requests.get(url, params=params)\n",
    "    if r.status_code != 200:\n",
    "        raise RuntimeError(f\"HTTP error {r.status_code}: {r.text}\")\n",
    "    data = r.json()\n",
    "\n",
    "    if \"Error Message\" in data:\n",
    "        raise ValueError(f\"API returned error: {data['Error Message']}\")\n",
    "    if \"Time Series (Daily)\" not in data:\n",
    "        raise ValueError(f\"Unexpected payload (rate limit or invalid key?): {json.dumps(data)[:500]}\")\n",
    "\n",
    "\n",
    "    ts = data[\"Time Series (Daily)\"]\n",
    "    df = pd.DataFrame.from_dict(ts, orient=\"index\", dtype=float)\n",
    "    df.index = pd.to_datetime(df.index)\n",
    "    df = df.rename(columns={\n",
    "        \"1. open\": \"open\",\n",
    "        \"2. high\": \"high\",\n",
    "        \"3. low\": \"low\",\n",
    "        \"4. close\": \"close\",\n",
    "        \"5. adjusted close\": \"adjusted_close\",\n",
    "        \"6. volume\": \"volume\",\n",
    "        \"7. dividend amount\": \"dividend_amount\",\n",
    "        \"8. split coefficient\": \"split_coefficient\"\n",
    "    })\n",
    "    df = df.sort_index()  # ascending\n",
    "\n",
    "    # Filter by date range if start_date or end_date are provided\n",
    "    if start_date:\n",
    "        start_datetime = pd.to_datetime(start_date)\n",
    "        df = df[df.index >= start_datetime]\n",
    "    if end_date:\n",
    "        end_datetime = pd.to_datetime(end_date)\n",
    "        df = df[df.index <= end_datetime]\n",
    "\n",
    "    return df\n",
    "\n",
    "try:\n",
    "    df = fetch_alpha_vantage_daily_adjusted(SYMBOL,\n",
    "                                            ALPHAVANTAGE_API_KEY,\n",
    "                                            output_size=OUTPUT_SIZE,\n",
    "                                            start_date=START_DATE,\n",
    "                                            end_date='2025-09-01') # Changed end date\n",
    "except:\n",
    "    # You found a stock that requires a premium access to the Alpha Vantage API. Rollback to the Yahoo Finance API\n",
    "    df = get_stock_data(SYMBOL, start_date=START_DATE, end_date='2025-09-01') # Changed end date\n",
    "\n",
    "print(df.head(3))\n",
    "print(df.tail(3))"
   ]
  },
  {
   "cell_type": "markdown",
   "metadata": {
    "id": "xOTN5_POhnlW"
   },
   "source": [
    "#Exploratory Statistics"
   ]
  },
  {
   "cell_type": "code",
   "execution_count": 10,
   "metadata": {
    "colab": {
     "base_uri": "https://localhost:8080/",
     "height": 337
    },
    "executionInfo": {
     "elapsed": 742,
     "status": "ok",
     "timestamp": 1761683228950,
     "user": {
      "displayName": "Tariere Timitimi",
      "userId": "04349166144191865504"
     },
     "user_tz": 240
    },
    "id": "ae4a0bb8",
    "outputId": "35059dbf-8ef1-429f-9817-f279fe3a786a"
   },
   "outputs": [
    {
     "data": {
      "image/png": "[encoded data removed]",
      "text/plain": [
       "<Figure size 1200x600 with 1 Axes>"
      ]
     },
     "metadata": {},
     "output_type": "display_data"
    }
   ],
   "source": [
    "# Line plot of adjusted close price\n",
    "plt.figure(figsize=(12, 6))\n",
    "df['adjusted_close'].plot(title=f'{SYMBOL} - Adjusted Close Price')\n",
    "plt.xlabel('Date')\n",
    "plt.ylabel('Price')\n",
    "plt.grid(True)\n",
    "plt.show()"
   ]
  },
  {
   "cell_type": "code",
   "execution_count": 11,
   "metadata": {
    "colab": {
     "base_uri": "https://localhost:8080/",
     "height": 337
    },
    "executionInfo": {
     "elapsed": 70,
     "status": "ok",
     "timestamp": 1761683233470,
     "user": {
      "displayName": "Tariere Timitimi",
      "userId": "04349166144191865504"
     },
     "user_tz": 240
    },
    "id": "41e2c5bc",
    "outputId": "eafb68d1-f2ac-4e33-ee8b-2ac99d8b7e33"
   },
   "outputs": [
    {
     "data": {
      "image/png": "[encoded data removed]",
      "text/plain": [
       "<Figure size 1200x600 with 1 Axes>"
      ]
     },
     "metadata": {},
     "output_type": "display_data"
    }
   ],
   "source": [
    "# Rolling statistics (e.g., 30-day rolling mean and standard deviation)\n",
    "rolling_mean = df['adjusted_close'].rolling(window=30).mean()\n",
    "rolling_std = df['adjusted_close'].rolling(window=30).std()\n",
    "\n",
    "plt.figure(figsize=(12, 6))\n",
    "df['adjusted_close'].plot(label='Adjusted Close Price', alpha=0.5)\n",
    "rolling_mean.plot(label='30-Day Rolling Mean')\n",
    "rolling_std.plot(label='30-Day Rolling Std Dev')\n",
    "plt.title(f'{SYMBOL} - Adjusted Close Price with Rolling Statistics')\n",
    "plt.xlabel('Date')\n",
    "plt.ylabel('Price')\n",
    "plt.legend()\n",
    "plt.grid(True)\n",
    "plt.show()"
   ]
  },
  {
   "cell_type": "code",
   "execution_count": 12,
   "metadata": {
    "colab": {
     "base_uri": "https://localhost:8080/",
     "height": 365
    },
    "executionInfo": {
     "elapsed": 67,
     "status": "ok",
     "timestamp": 1761683236156,
     "user": {
      "displayName": "Tariere Timitimi",
      "userId": "04349166144191865504"
     },
     "user_tz": 240
    },
    "id": "5be1419a",
    "outputId": "f8990ba4-8547-4da5-9752-f03a46f35d91"
   },
   "outputs": [
    {
     "name": "stdout",
     "output_type": "stream",
     "text": [
      "\n",
      "Summary Statistics for Adjusted Close Price:\n"
     ]
    },
    {
     "data": {
      "text/plain": [
       "count     63.000000\n",
       "mean     164.735811\n",
       "std       15.023143\n",
       "min      137.362717\n",
       "25%      150.591507\n",
       "50%      170.770370\n",
       "75%      178.114952\n",
       "max      183.149673\n",
       "Name: adjusted_close, dtype: float64"
      ]
     },
     "metadata": {},
     "output_type": "display_data"
    }
   ],
   "source": [
    "# Summary statistics\n",
    "print(\"\\nSummary Statistics for Adjusted Close Price:\")\n",
    "display(df['adjusted_close'].describe())"
   ]
  },
  {
   "cell_type": "markdown",
   "metadata": {
    "id": "u2vXYg_EibD7"
   },
   "source": [
    "# Identifying Time Series Components"
   ]
  },
  {
   "cell_type": "code",
   "execution_count": 13,
   "metadata": {
    "colab": {
     "base_uri": "https://localhost:8080/",
     "height": 340
    },
    "executionInfo": {
     "elapsed": 9,
     "status": "ok",
     "timestamp": 1761683254785,
     "user": {
      "displayName": "Tariere Timitimi",
      "userId": "04349166144191865504"
     },
     "user_tz": 240
    },
    "id": "046643e9",
    "outputId": "227c2d94-6157-41cc-ecca-3f1bf1068d6e"
   },
   "outputs": [
    {
     "data": {
      "text/html": [
       "<div>\n",
       "<style scoped>\n",
       "    .dataframe tbody tr th:only-of-type {\n",
       "        vertical-align: middle;\n",
       "    }\n",
       "\n",
       "    .dataframe tbody tr th {\n",
       "        vertical-align: top;\n",
       "    }\n",
       "\n",
       "    .dataframe thead th {\n",
       "        text-align: right;\n",
       "    }\n",
       "</style>\n",
       "<table border=\"1\" class=\"dataframe\">\n",
       "  <thead>\n",
       "    <tr style=\"text-align: right;\">\n",
       "      <th></th>\n",
       "      <th>open</th>\n",
       "      <th>high</th>\n",
       "      <th>low</th>\n",
       "      <th>close</th>\n",
       "      <th>adjusted_close</th>\n",
       "      <th>volume</th>\n",
       "      <th>log_price</th>\n",
       "    </tr>\n",
       "    <tr>\n",
       "      <th>Date</th>\n",
       "      <th></th>\n",
       "      <th></th>\n",
       "      <th></th>\n",
       "      <th></th>\n",
       "      <th></th>\n",
       "      <th></th>\n",
       "      <th></th>\n",
       "    </tr>\n",
       "  </thead>\n",
       "  <tbody>\n",
       "    <tr>\n",
       "      <th>2025-06-02</th>\n",
       "      <td>135.490005</td>\n",
       "      <td>138.119995</td>\n",
       "      <td>135.399994</td>\n",
       "      <td>137.380005</td>\n",
       "      <td>137.362717</td>\n",
       "      <td>197663100</td>\n",
       "      <td>4.922625</td>\n",
       "    </tr>\n",
       "    <tr>\n",
       "      <th>2025-06-03</th>\n",
       "      <td>138.779999</td>\n",
       "      <td>142.000000</td>\n",
       "      <td>137.949997</td>\n",
       "      <td>141.220001</td>\n",
       "      <td>141.202225</td>\n",
       "      <td>225578800</td>\n",
       "      <td>4.950193</td>\n",
       "    </tr>\n",
       "    <tr>\n",
       "      <th>2025-06-04</th>\n",
       "      <td>142.190002</td>\n",
       "      <td>142.389999</td>\n",
       "      <td>139.539993</td>\n",
       "      <td>141.919998</td>\n",
       "      <td>141.902145</td>\n",
       "      <td>167120800</td>\n",
       "      <td>4.955138</td>\n",
       "    </tr>\n",
       "    <tr>\n",
       "      <th>2025-06-05</th>\n",
       "      <td>142.169998</td>\n",
       "      <td>144.000000</td>\n",
       "      <td>138.830002</td>\n",
       "      <td>139.990005</td>\n",
       "      <td>139.972397</td>\n",
       "      <td>231397900</td>\n",
       "      <td>4.941445</td>\n",
       "    </tr>\n",
       "    <tr>\n",
       "      <th>2025-06-06</th>\n",
       "      <td>142.509995</td>\n",
       "      <td>143.270004</td>\n",
       "      <td>141.509995</td>\n",
       "      <td>141.720001</td>\n",
       "      <td>141.702164</td>\n",
       "      <td>153986200</td>\n",
       "      <td>4.953727</td>\n",
       "    </tr>\n",
       "  </tbody>\n",
       "</table>\n",
       "</div>"
      ],
      "text/plain": [
       "                  open        high         low       close  adjusted_close  \\\n",
       "Date                                                                         \n",
       "2025-06-02  135.490005  138.119995  135.399994  137.380005      137.362717   \n",
       "2025-06-03  138.779999  142.000000  137.949997  141.220001      141.202225   \n",
       "2025-06-04  142.190002  142.389999  139.539993  141.919998      141.902145   \n",
       "2025-06-05  142.169998  144.000000  138.830002  139.990005      139.972397   \n",
       "2025-06-06  142.509995  143.270004  141.509995  141.720001      141.702164   \n",
       "\n",
       "               volume  log_price  \n",
       "Date                              \n",
       "2025-06-02  197663100   4.922625  \n",
       "2025-06-03  225578800   4.950193  \n",
       "2025-06-04  167120800   4.955138  \n",
       "2025-06-05  231397900   4.941445  \n",
       "2025-06-06  153986200   4.953727  "
      ]
     },
     "metadata": {},
     "output_type": "display_data"
    }
   ],
   "source": [
    "# Calculate the log of the adjusted close price\n",
    "df['log_price'] = np.log(df['adjusted_close'])\n",
    "\n",
    "# Display the first few rows to confirm the new column\n",
    "display(df.head())"
   ]
  },
  {
   "cell_type": "code",
   "execution_count": 14,
   "metadata": {
    "colab": {
     "base_uri": "https://localhost:8080/"
    },
    "executionInfo": {
     "elapsed": 44,
     "status": "ok",
     "timestamp": 1761683257235,
     "user": {
      "displayName": "Tariere Timitimi",
      "userId": "04349166144191865504"
     },
     "user_tz": 240
    },
    "id": "MwxJZ4BcgjYS",
    "outputId": "aff8b5b1-e7f5-4520-975b-b76746c45e72"
   },
   "outputs": [
    {
     "name": "stdout",
     "output_type": "stream",
     "text": [
      "\n",
      "=== Stationarity Report for log_price differenced 0 times ===\n",
      "ADF:  stat=-1.9033, p= 0.3305 | crit={'1%': np.float64(-3.540522678829176), '5%': np.float64(-2.9094272025108254), '10%': np.float64(-2.5923136524453696)}\n",
      "KPSS: stat= 1.0730, p= 0.0100 | crit={'10%': 0.347, '5%': 0.463, '2.5%': 0.574, '1%': 0.739}\n",
      "\n",
      "=== Stationarity Report for log_price differenced 1 times ===\n",
      "ADF:  stat=-8.7661, p= 0.0000 | crit={'1%': np.float64(-3.542412746661615), '5%': np.float64(-2.910236235808284), '10%': np.float64(-2.5927445767266866)}\n",
      "KPSS: stat= 0.3486, p= 0.0993 | crit={'10%': 0.347, '5%': 0.463, '2.5%': 0.574, '1%': 0.739}\n",
      "\n",
      "Selected d = 1 (series appears stationary).\n"
     ]
    },
    {
     "name": "stderr",
     "output_type": "stream",
     "text": [
      "/var/folders/0q/2fgz4p297432bjytntcz1lfh0000gn/T/ipykernel_9587/555447899.py:6: InterpolationWarning: The test statistic is outside of the range of p-values available in the\n",
      "look-up table. The actual p-value is smaller than the p-value returned.\n",
      "\n",
      "  kpss_stat, kpss_p, _, kpss_crit = kpss(series, regression=\"c\", nlags=\"auto\")\n"
     ]
    }
   ],
   "source": [
    "#\n",
    "def adf_kpss_report(series: pd.Series, name: str = \"series\") -> Tuple[float, float]:\n",
    "    \"\"\"Run ADF & KPSS and print a compact summary. Returns (adf_p, kpss_p).\"\"\"\n",
    "    series = series.dropna()\n",
    "    adf_stat, adf_p, _, _, adf_crit, _ = adfuller(series, autolag=\"AIC\")\n",
    "    kpss_stat, kpss_p, _, kpss_crit = kpss(series, regression=\"c\", nlags=\"auto\")\n",
    "    print(f\"\\n=== Stationarity Report for {name} ===\")\n",
    "    print(f\"ADF:  stat={adf_stat: .4f}, p={adf_p: .4f} | crit={adf_crit}\")\n",
    "    print(f\"KPSS: stat={kpss_stat: .4f}, p={kpss_p: .4f} | crit={kpss_crit}\")\n",
    "    return adf_p, kpss_p\n",
    "\n",
    "# Determine d by iteratively differencing the log-price\n",
    "y = df[\"log_price\"].copy()\n",
    "d = 0\n",
    "max_d = 2\n",
    "\n",
    "while d <= max_d:\n",
    "    adf_p, kpss_p = adf_kpss_report(y, name=f\"log_price differenced {d} times\")\n",
    "    adf_ok = adf_p < 0.05     # reject unit root\n",
    "    kpss_ok = kpss_p > 0.05   # fail to reject stationarity\n",
    "\n",
    "    if adf_ok and kpss_ok:\n",
    "        print(f\"\\nSelected d = {d} (series appears stationary).\" )\n",
    "        break\n",
    "    else:\n",
    "        d += 1\n",
    "        if d > max_d:\n",
    "            print(\"\\nReached maximum differencing (d=2). Proceeding with d=2 even if borderline.\")\n",
    "            d = max_d\n",
    "            break\n",
    "        y = y.diff()  # difference once and test again\n",
    "\n",
    "# Keep a reference to the stationary (d-differenced) series for ACF/PACF\n",
    "y_stationary = df[\"log_price\"].diff(d).dropna() if d > 0 else df[\"log_price\"].dropna()"
   ]
  },
  {
   "cell_type": "code",
   "execution_count": 15,
   "metadata": {
    "colab": {
     "base_uri": "https://localhost:8080/",
     "height": 921
    },
    "executionInfo": {
     "elapsed": 330,
     "status": "ok",
     "timestamp": 1761683269777,
     "user": {
      "displayName": "Tariere Timitimi",
      "userId": "04349166144191865504"
     },
     "user_tz": 240
    },
    "id": "dOiTE3JGg2JC",
    "outputId": "6f6e5bf5-565e-4baf-fabc-13963570e1b2"
   },
   "outputs": [
    {
     "data": {
      "text/plain": [
       "<Figure size 1200x400 with 0 Axes>"
      ]
     },
     "metadata": {},
     "output_type": "display_data"
    },
    {
     "data": {
      "image/png": "[encoded data removed]",
      "text/plain": [
       "<Figure size 640x480 with 1 Axes>"
      ]
     },
     "metadata": {},
     "output_type": "display_data"
    },
    {
     "data": {
      "text/plain": [
       "<Figure size 1200x400 with 0 Axes>"
      ]
     },
     "metadata": {},
     "output_type": "display_data"
    },
    {
     "data": {
      "image/png": "[encoded data removed]",
      "text/plain": [
       "<Figure size 640x480 with 1 Axes>"
      ]
     },
     "metadata": {},
     "output_type": "display_data"
    }
   ],
   "source": [
    "# Plot ACF & PACF for the differenced log-price\n",
    "lags = min(60, len(y_stationary) // 4)\n",
    "\n",
    "fig = plt.figure(figsize=(12, 4))\n",
    "plot_acf(y_stationary, lags=lags, title=f\"ACF (d={d})\")\n",
    "plt.show()\n",
    "\n",
    "fig = plt.figure(figsize=(12, 4))\n",
    "plot_pacf(y_stationary, lags=lags, title=f\"PACF (d={d})\", method=\"ywm\")\n",
    "plt.show()"
   ]
  },
  {
   "cell_type": "markdown",
   "metadata": {
    "id": "uiqCqkkhj1LJ"
   },
   "source": [
    "# Dealing with Non-Stationary and Modeling"
   ]
  },
  {
   "cell_type": "code",
   "execution_count": 16,
   "metadata": {
    "colab": {
     "base_uri": "https://localhost:8080/",
     "height": 1000
    },
    "executionInfo": {
     "elapsed": 11377,
     "status": "ok",
     "timestamp": 1761683302867,
     "user": {
      "displayName": "Tariere Timitimi",
      "userId": "04349166144191865504"
     },
     "user_tz": 240
    },
    "id": "qypDq7Khj8T-",
    "outputId": "01d13329-3bed-4c11-b3ce-ab4df6717d9c"
   },
   "outputs": [
    {
     "name": "stdout",
     "output_type": "stream",
     "text": [
      "Successfully set frequency to 'B'.\n",
      "Fitted ARIMA(0, 1, 0): AIC=-325.33, BIC=-323.19\n",
      "Fitted ARIMA(0, 1, 1): AIC=-317.58, BIC=-313.33\n",
      "Fitted ARIMA(0, 1, 2): AIC=-310.50, BIC=-304.16\n",
      "Fitted ARIMA(0, 1, 3): AIC=-302.80, BIC=-294.42\n",
      "Fitted ARIMA(0, 1, 4): AIC=-294.75, BIC=-284.36\n",
      "Fitted ARIMA(0, 1, 5): AIC=-286.72, BIC=-274.36\n",
      "Fitted ARIMA(1, 1, 0): AIC=-323.86, BIC=-319.57\n",
      "Fitted ARIMA(1, 1, 1): AIC=-315.76, BIC=-309.37\n",
      "Fitted ARIMA(1, 1, 2): AIC=-309.37, BIC=-300.93\n"
     ]
    },
    {
     "name": "stderr",
     "output_type": "stream",
     "text": [
      "/Library/Frameworks/Python.framework/Versions/3.13/lib/python3.13/site-packages/statsmodels/base/model.py:607: ConvergenceWarning: Maximum Likelihood optimization failed to converge. Check mle_retvals\n",
      "  warnings.warn(\"Maximum Likelihood optimization failed to \"\n"
     ]
    },
    {
     "name": "stdout",
     "output_type": "stream",
     "text": [
      "Fitted ARIMA(1, 1, 3): AIC=-300.81, BIC=-290.34\n"
     ]
    },
    {
     "name": "stderr",
     "output_type": "stream",
     "text": [
      "/Library/Frameworks/Python.framework/Versions/3.13/lib/python3.13/site-packages/statsmodels/base/model.py:607: ConvergenceWarning: Maximum Likelihood optimization failed to converge. Check mle_retvals\n",
      "  warnings.warn(\"Maximum Likelihood optimization failed to \"\n"
     ]
    },
    {
     "name": "stdout",
     "output_type": "stream",
     "text": [
      "Fitted ARIMA(1, 1, 4): AIC=-295.95, BIC=-283.48\n"
     ]
    },
    {
     "name": "stderr",
     "output_type": "stream",
     "text": [
      "/Library/Frameworks/Python.framework/Versions/3.13/lib/python3.13/site-packages/statsmodels/base/model.py:607: ConvergenceWarning: Maximum Likelihood optimization failed to converge. Check mle_retvals\n",
      "  warnings.warn(\"Maximum Likelihood optimization failed to \"\n"
     ]
    },
    {
     "name": "stdout",
     "output_type": "stream",
     "text": [
      "Fitted ARIMA(1, 1, 5): AIC=-284.75, BIC=-270.33\n",
      "Fitted ARIMA(2, 1, 0): AIC=-316.02, BIC=-309.64\n",
      "Fitted ARIMA(2, 1, 1): AIC=-315.09, BIC=-306.58\n",
      "Fitted ARIMA(2, 1, 2): AIC=-306.89, BIC=-296.33\n"
     ]
    },
    {
     "name": "stderr",
     "output_type": "stream",
     "text": [
      "/Library/Frameworks/Python.framework/Versions/3.13/lib/python3.13/site-packages/statsmodels/base/model.py:607: ConvergenceWarning: Maximum Likelihood optimization failed to converge. Check mle_retvals\n",
      "  warnings.warn(\"Maximum Likelihood optimization failed to \"\n"
     ]
    },
    {
     "name": "stdout",
     "output_type": "stream",
     "text": [
      "Fitted ARIMA(2, 1, 3): AIC=-299.19, BIC=-286.62\n"
     ]
    },
    {
     "name": "stderr",
     "output_type": "stream",
     "text": [
      "/Library/Frameworks/Python.framework/Versions/3.13/lib/python3.13/site-packages/statsmodels/base/model.py:607: ConvergenceWarning: Maximum Likelihood optimization failed to converge. Check mle_retvals\n",
      "  warnings.warn(\"Maximum Likelihood optimization failed to \"\n"
     ]
    },
    {
     "name": "stdout",
     "output_type": "stream",
     "text": [
      "Fitted ARIMA(2, 1, 4): AIC=-293.65, BIC=-279.11\n"
     ]
    },
    {
     "name": "stderr",
     "output_type": "stream",
     "text": [
      "/Library/Frameworks/Python.framework/Versions/3.13/lib/python3.13/site-packages/statsmodels/base/model.py:607: ConvergenceWarning: Maximum Likelihood optimization failed to converge. Check mle_retvals\n",
      "  warnings.warn(\"Maximum Likelihood optimization failed to \"\n"
     ]
    },
    {
     "name": "stdout",
     "output_type": "stream",
     "text": [
      "Fitted ARIMA(2, 1, 5): AIC=-284.31, BIC=-267.83\n",
      "Fitted ARIMA(3, 1, 0): AIC=-308.56, BIC=-300.12\n",
      "Fitted ARIMA(3, 1, 1): AIC=-306.71, BIC=-296.16\n"
     ]
    },
    {
     "name": "stderr",
     "output_type": "stream",
     "text": [
      "/Library/Frameworks/Python.framework/Versions/3.13/lib/python3.13/site-packages/statsmodels/base/model.py:607: ConvergenceWarning: Maximum Likelihood optimization failed to converge. Check mle_retvals\n",
      "  warnings.warn(\"Maximum Likelihood optimization failed to \"\n"
     ]
    },
    {
     "name": "stdout",
     "output_type": "stream",
     "text": [
      "Fitted ARIMA(3, 1, 2): AIC=-304.84, BIC=-292.17\n",
      "Fitted ARIMA(3, 1, 3): AIC=-297.12, BIC=-282.46\n"
     ]
    },
    {
     "name": "stderr",
     "output_type": "stream",
     "text": [
      "/Library/Frameworks/Python.framework/Versions/3.13/lib/python3.13/site-packages/statsmodels/base/model.py:607: ConvergenceWarning: Maximum Likelihood optimization failed to converge. Check mle_retvals\n",
      "  warnings.warn(\"Maximum Likelihood optimization failed to \"\n"
     ]
    },
    {
     "name": "stdout",
     "output_type": "stream",
     "text": [
      "Fitted ARIMA(3, 1, 4): AIC=-292.52, BIC=-275.90\n"
     ]
    },
    {
     "name": "stderr",
     "output_type": "stream",
     "text": [
      "/Library/Frameworks/Python.framework/Versions/3.13/lib/python3.13/site-packages/statsmodels/base/model.py:607: ConvergenceWarning: Maximum Likelihood optimization failed to converge. Check mle_retvals\n",
      "  warnings.warn(\"Maximum Likelihood optimization failed to \"\n"
     ]
    },
    {
     "name": "stdout",
     "output_type": "stream",
     "text": [
      "Fitted ARIMA(3, 1, 5): AIC=-283.53, BIC=-264.99\n",
      "Fitted ARIMA(4, 1, 0): AIC=-300.70, BIC=-290.23\n"
     ]
    },
    {
     "name": "stderr",
     "output_type": "stream",
     "text": [
      "/Library/Frameworks/Python.framework/Versions/3.13/lib/python3.13/site-packages/statsmodels/base/model.py:607: ConvergenceWarning: Maximum Likelihood optimization failed to converge. Check mle_retvals\n",
      "  warnings.warn(\"Maximum Likelihood optimization failed to \"\n",
      "/Library/Frameworks/Python.framework/Versions/3.13/lib/python3.13/site-packages/statsmodels/base/model.py:607: ConvergenceWarning: Maximum Likelihood optimization failed to converge. Check mle_retvals\n",
      "  warnings.warn(\"Maximum Likelihood optimization failed to \"\n"
     ]
    },
    {
     "name": "stdout",
     "output_type": "stream",
     "text": [
      "Fitted ARIMA(4, 1, 1): AIC=-298.85, BIC=-286.28\n",
      "Fitted ARIMA(4, 1, 2): AIC=-296.41, BIC=-281.75\n",
      "Fitted ARIMA(4, 1, 3): AIC=-295.15, BIC=-278.40\n",
      "Fitted ARIMA(4, 1, 4): AIC=-289.29, BIC=-270.59\n"
     ]
    },
    {
     "name": "stderr",
     "output_type": "stream",
     "text": [
      "/Library/Frameworks/Python.framework/Versions/3.13/lib/python3.13/site-packages/statsmodels/base/model.py:607: ConvergenceWarning: Maximum Likelihood optimization failed to converge. Check mle_retvals\n",
      "  warnings.warn(\"Maximum Likelihood optimization failed to \"\n",
      "/Library/Frameworks/Python.framework/Versions/3.13/lib/python3.13/site-packages/statsmodels/base/model.py:607: ConvergenceWarning: Maximum Likelihood optimization failed to converge. Check mle_retvals\n",
      "  warnings.warn(\"Maximum Likelihood optimization failed to \"\n"
     ]
    },
    {
     "name": "stdout",
     "output_type": "stream",
     "text": [
      "Fitted ARIMA(4, 1, 5): AIC=-282.17, BIC=-261.56\n"
     ]
    },
    {
     "name": "stderr",
     "output_type": "stream",
     "text": [
      "/Library/Frameworks/Python.framework/Versions/3.13/lib/python3.13/site-packages/statsmodels/base/model.py:607: ConvergenceWarning: Maximum Likelihood optimization failed to converge. Check mle_retvals\n",
      "  warnings.warn(\"Maximum Likelihood optimization failed to \"\n"
     ]
    },
    {
     "name": "stdout",
     "output_type": "stream",
     "text": [
      "Fitted ARIMA(5, 1, 0): AIC=-292.72, BIC=-280.26\n",
      "Fitted ARIMA(5, 1, 1): AIC=-290.73, BIC=-276.19\n",
      "Fitted ARIMA(5, 1, 2): AIC=-288.35, BIC=-271.73\n"
     ]
    },
    {
     "name": "stderr",
     "output_type": "stream",
     "text": [
      "/Library/Frameworks/Python.framework/Versions/3.13/lib/python3.13/site-packages/statsmodels/base/model.py:607: ConvergenceWarning: Maximum Likelihood optimization failed to converge. Check mle_retvals\n",
      "  warnings.warn(\"Maximum Likelihood optimization failed to \"\n"
     ]
    },
    {
     "name": "stdout",
     "output_type": "stream",
     "text": [
      "Fitted ARIMA(5, 1, 3): AIC=-286.55, BIC=-267.85\n"
     ]
    },
    {
     "name": "stderr",
     "output_type": "stream",
     "text": [
      "/Library/Frameworks/Python.framework/Versions/3.13/lib/python3.13/site-packages/statsmodels/base/model.py:607: ConvergenceWarning: Maximum Likelihood optimization failed to converge. Check mle_retvals\n",
      "  warnings.warn(\"Maximum Likelihood optimization failed to \"\n"
     ]
    },
    {
     "name": "stdout",
     "output_type": "stream",
     "text": [
      "Fitted ARIMA(5, 1, 4): AIC=-290.51, BIC=-269.74\n",
      "Fitted ARIMA(5, 1, 5): AIC=-280.03, BIC=-257.36\n"
     ]
    },
    {
     "name": "stderr",
     "output_type": "stream",
     "text": [
      "/Library/Frameworks/Python.framework/Versions/3.13/lib/python3.13/site-packages/statsmodels/base/model.py:607: ConvergenceWarning: Maximum Likelihood optimization failed to converge. Check mle_retvals\n",
      "  warnings.warn(\"Maximum Likelihood optimization failed to \"\n"
     ]
    },
    {
     "data": {
      "text/html": [
       "<div>\n",
       "<style scoped>\n",
       "    .dataframe tbody tr th:only-of-type {\n",
       "        vertical-align: middle;\n",
       "    }\n",
       "\n",
       "    .dataframe tbody tr th {\n",
       "        vertical-align: top;\n",
       "    }\n",
       "\n",
       "    .dataframe thead th {\n",
       "        text-align: right;\n",
       "    }\n",
       "</style>\n",
       "<table border=\"1\" class=\"dataframe\">\n",
       "  <thead>\n",
       "    <tr style=\"text-align: right;\">\n",
       "      <th></th>\n",
       "      <th>p</th>\n",
       "      <th>d</th>\n",
       "      <th>q</th>\n",
       "      <th>aic</th>\n",
       "      <th>bic</th>\n",
       "    </tr>\n",
       "  </thead>\n",
       "  <tbody>\n",
       "    <tr>\n",
       "      <th>0</th>\n",
       "      <td>0</td>\n",
       "      <td>1</td>\n",
       "      <td>0</td>\n",
       "      <td>-325.329399</td>\n",
       "      <td>-323.186264</td>\n",
       "    </tr>\n",
       "    <tr>\n",
       "      <th>1</th>\n",
       "      <td>1</td>\n",
       "      <td>1</td>\n",
       "      <td>0</td>\n",
       "      <td>-323.856542</td>\n",
       "      <td>-319.570273</td>\n",
       "    </tr>\n",
       "    <tr>\n",
       "      <th>2</th>\n",
       "      <td>0</td>\n",
       "      <td>1</td>\n",
       "      <td>1</td>\n",
       "      <td>-317.579921</td>\n",
       "      <td>-313.325653</td>\n",
       "    </tr>\n",
       "    <tr>\n",
       "      <th>3</th>\n",
       "      <td>2</td>\n",
       "      <td>1</td>\n",
       "      <td>0</td>\n",
       "      <td>-316.018235</td>\n",
       "      <td>-309.636832</td>\n",
       "    </tr>\n",
       "    <tr>\n",
       "      <th>4</th>\n",
       "      <td>1</td>\n",
       "      <td>1</td>\n",
       "      <td>1</td>\n",
       "      <td>-315.755700</td>\n",
       "      <td>-309.374297</td>\n",
       "    </tr>\n",
       "    <tr>\n",
       "      <th>5</th>\n",
       "      <td>2</td>\n",
       "      <td>1</td>\n",
       "      <td>1</td>\n",
       "      <td>-315.089058</td>\n",
       "      <td>-306.580520</td>\n",
       "    </tr>\n",
       "    <tr>\n",
       "      <th>6</th>\n",
       "      <td>0</td>\n",
       "      <td>1</td>\n",
       "      <td>2</td>\n",
       "      <td>-310.496209</td>\n",
       "      <td>-304.163587</td>\n",
       "    </tr>\n",
       "    <tr>\n",
       "      <th>7</th>\n",
       "      <td>1</td>\n",
       "      <td>1</td>\n",
       "      <td>2</td>\n",
       "      <td>-309.372841</td>\n",
       "      <td>-300.929346</td>\n",
       "    </tr>\n",
       "    <tr>\n",
       "      <th>8</th>\n",
       "      <td>3</td>\n",
       "      <td>1</td>\n",
       "      <td>0</td>\n",
       "      <td>-308.560164</td>\n",
       "      <td>-300.116669</td>\n",
       "    </tr>\n",
       "    <tr>\n",
       "      <th>9</th>\n",
       "      <td>2</td>\n",
       "      <td>1</td>\n",
       "      <td>2</td>\n",
       "      <td>-306.886853</td>\n",
       "      <td>-296.332484</td>\n",
       "    </tr>\n",
       "  </tbody>\n",
       "</table>\n",
       "</div>"
      ],
      "text/plain": [
       "   p  d  q         aic         bic\n",
       "0  0  1  0 -325.329399 -323.186264\n",
       "1  1  1  0 -323.856542 -319.570273\n",
       "2  0  1  1 -317.579921 -313.325653\n",
       "3  2  1  0 -316.018235 -309.636832\n",
       "4  1  1  1 -315.755700 -309.374297\n",
       "5  2  1  1 -315.089058 -306.580520\n",
       "6  0  1  2 -310.496209 -304.163587\n",
       "7  1  1  2 -309.372841 -300.929346\n",
       "8  3  1  0 -308.560164 -300.116669\n",
       "9  2  1  2 -306.886853 -296.332484"
      ]
     },
     "metadata": {},
     "output_type": "display_data"
    }
   ],
   "source": [
    "import warnings\n",
    "\n",
    "# Store the original warnings filter\n",
    "original_filters = warnings.filters[:]\n",
    "\n",
    "# Temporarily change the filter for ConvergenceWarning within this cell's execution\n",
    "warnings.filterwarnings(\"always\", \"DeprecationWarning\")\n",
    "\n",
    "\n",
    "def fit_arima_grid(y_original: pd.Series, d: int, p_max: int = 5, q_max: int = 5,\n",
    "                   enforce_stationarity: bool = False, enforce_invertibility: bool = False) -> pd.DataFrame:\n",
    "    \"\"\"\n",
    "    Fit ARIMA(p,d,q) for p in [0..p_max], q in [0..q_max] with fixed d.\n",
    "    Returns a DataFrame with rows: (p,d,q,AIC,BIC) sorted by AIC.\n",
    "    \"\"\"\n",
    "    results = []\n",
    "\n",
    "    # Ensure the series has no NaNs and a DatetimeIndex\n",
    "    y_clean = y_original.dropna().copy()\n",
    "    if not isinstance(y_clean.index, pd.DatetimeIndex):\n",
    "         y_clean.index = pd.to_datetime(y_clean.index)\n",
    "\n",
    "    # Attempt to set frequency to 'B' (Business daily) - important for forecasting\n",
    "    # If setting frequency fails, statsmodels might still handle it with freq='B' parameter\n",
    "    try:\n",
    "        y_clean = y_clean.asfreq('B')\n",
    "        print(\"Successfully set frequency to 'B'.\")\n",
    "    except ValueError:\n",
    "        print(\"Could not set frequency to 'B'. Proceeding without explicit frequency on index.\")\n",
    "        # If asfreq fails, y_clean retains its original index (hopefully DatetimeIndex)\n",
    "\n",
    "\n",
    "    for p in range(p_max + 1):\n",
    "        for q in range(q_max + 1):\n",
    "            order = (p, d, q)\n",
    "            try:\n",
    "                # Fit ARIMA on the cleaned series without specifying freq in the constructor\n",
    "                model = ARIMA(y_clean, order=order, enforce_stationarity=enforce_stationarity,\n",
    "                              enforce_invertibility=enforce_invertibility)\n",
    "                fitted = model.fit() # Removed maxiter here\n",
    "                results.append({\n",
    "                    \"p\": p, \"d\": d, \"q\": q,\n",
    "                    \"aic\": fitted.aic,\n",
    "                    \"bic\": fitted.bic\n",
    "                })\n",
    "                print(f\"Fitted ARIMA{order}: AIC={fitted.aic:.2f}, BIC={fitted.bic:.2f}\")\n",
    "            except DeprecationWarning as w:\n",
    "                 continue\n",
    "            except Exception as e:\n",
    "                print(f\"ARIMA{order} failed: {e}\")\n",
    "                continue\n",
    "\n",
    "    # Restore original warnings filter after the loop\n",
    "    warnings.filters = original_filters\n",
    "\n",
    "    if not results:\n",
    "        print(\"No ARIMA models were successfully fit.\")\n",
    "        return pd.DataFrame() # Return empty DataFrame if no models fit\n",
    "\n",
    "    res_df = pd.DataFrame(results).sort_values(by=\"aic\", ascending=True).reset_index(drop=True)\n",
    "    return res_df\n",
    "\n",
    "grid_results = fit_arima_grid(df[\"log_price\"], d=d, p_max=5, q_max=5)\n",
    "display(grid_results.head(10))"
   ]
  },
  {
   "cell_type": "code",
   "execution_count": 17,
   "metadata": {
    "colab": {
     "base_uri": "https://localhost:8080/"
    },
    "executionInfo": {
     "elapsed": 613,
     "status": "ok",
     "timestamp": 1761683314138,
     "user": {
      "displayName": "Tariere Timitimi",
      "userId": "04349166144191865504"
     },
     "user_tz": 240
    },
    "id": "DcF1mc28kQzs",
    "outputId": "dcd0e778-e218-4c59-fdfd-d05bb1442e83"
   },
   "outputs": [
    {
     "name": "stdout",
     "output_type": "stream",
     "text": [
      "Best by AIC: ARIMA(0, 1, 0) (AIC=-325.33, BIC=-323.19)\n",
      "Best by BIC: ARIMA(0, 1, 0) (AIC=-325.33, BIC=-323.19)\n",
      "=== Summary (AIC winner) ===\n",
      "                               SARIMAX Results                                \n",
      "==============================================================================\n",
      "Dep. Variable:              log_price   No. Observations:                   63\n",
      "Model:                 ARIMA(0, 1, 0)   Log Likelihood                 165.986\n",
      "Date:                Tue, 28 Oct 2025   AIC                           -329.973\n",
      "Time:                        17:32:51   BIC                           -327.845\n",
      "Sample:                             0   HQIC                          -329.137\n",
      "                                 - 63                                         \n",
      "Covariance Type:                  opg                                         \n",
      "==============================================================================\n",
      "                 coef    std err          z      P>|z|      [0.025      0.975]\n",
      "------------------------------------------------------------------------------\n",
      "sigma2         0.0003   4.84e-05      5.713      0.000       0.000       0.000\n",
      "===================================================================================\n",
      "Ljung-Box (L1) (Q):                   1.40   Jarque-Bera (JB):                 0.43\n",
      "Prob(Q):                              0.24   Prob(JB):                         0.81\n",
      "Heteroskedasticity (H):               0.78   Skew:                            -0.15\n",
      "Prob(H) (two-sided):                  0.57   Kurtosis:                         3.27\n",
      "===================================================================================\n",
      "\n",
      "Warnings:\n",
      "[1] Covariance matrix calculated using the outer product of gradients (complex-step).\n",
      "=== Summary (BIC winner) ===\n",
      "                               SARIMAX Results                                \n",
      "==============================================================================\n",
      "Dep. Variable:              log_price   No. Observations:                   63\n",
      "Model:                 ARIMA(0, 1, 0)   Log Likelihood                 165.986\n",
      "Date:                Tue, 28 Oct 2025   AIC                           -329.973\n",
      "Time:                        17:32:52   BIC                           -327.845\n",
      "Sample:                             0   HQIC                          -329.137\n",
      "                                 - 63                                         \n",
      "Covariance Type:                  opg                                         \n",
      "==============================================================================\n",
      "                 coef    std err          z      P>|z|      [0.025      0.975]\n",
      "------------------------------------------------------------------------------\n",
      "sigma2         0.0003   4.84e-05      5.713      0.000       0.000       0.000\n",
      "===================================================================================\n",
      "Ljung-Box (L1) (Q):                   1.40   Jarque-Bera (JB):                 0.43\n",
      "Prob(Q):                              0.24   Prob(JB):                         0.81\n",
      "Heteroskedasticity (H):               0.78   Skew:                            -0.15\n",
      "Prob(H) (two-sided):                  0.57   Kurtosis:                         3.27\n",
      "===================================================================================\n",
      "\n",
      "Warnings:\n",
      "[1] Covariance matrix calculated using the outer product of gradients (complex-step).\n"
     ]
    },
    {
     "name": "stderr",
     "output_type": "stream",
     "text": [
      "/Library/Frameworks/Python.framework/Versions/3.13/lib/python3.13/site-packages/statsmodels/tsa/base/tsa_model.py:473: ValueWarning: A date index has been provided, but it has no associated frequency information and so will be ignored when e.g. forecasting.\n",
      "  self._init_dates(dates, freq)\n",
      "/Library/Frameworks/Python.framework/Versions/3.13/lib/python3.13/site-packages/statsmodels/tsa/base/tsa_model.py:473: ValueWarning: A date index has been provided, but it has no associated frequency information and so will be ignored when e.g. forecasting.\n",
      "  self._init_dates(dates, freq)\n",
      "/Library/Frameworks/Python.framework/Versions/3.13/lib/python3.13/site-packages/statsmodels/tsa/base/tsa_model.py:473: ValueWarning: A date index has been provided, but it has no associated frequency information and so will be ignored when e.g. forecasting.\n",
      "  self._init_dates(dates, freq)\n",
      "/Library/Frameworks/Python.framework/Versions/3.13/lib/python3.13/site-packages/statsmodels/tsa/base/tsa_model.py:473: ValueWarning: A date index has been provided, but it has no associated frequency information and so will be ignored when e.g. forecasting.\n",
      "  self._init_dates(dates, freq)\n",
      "/Library/Frameworks/Python.framework/Versions/3.13/lib/python3.13/site-packages/statsmodels/tsa/base/tsa_model.py:473: ValueWarning: A date index has been provided, but it has no associated frequency information and so will be ignored when e.g. forecasting.\n",
      "  self._init_dates(dates, freq)\n",
      "/Library/Frameworks/Python.framework/Versions/3.13/lib/python3.13/site-packages/statsmodels/tsa/base/tsa_model.py:473: ValueWarning: A date index has been provided, but it has no associated frequency information and so will be ignored when e.g. forecasting.\n",
      "  self._init_dates(dates, freq)\n"
     ]
    }
   ],
   "source": [
    "if len(grid_results) == 0:\n",
    "    raise RuntimeError(\"No ARIMA models were successfully fit. Adjust the grid or check data.\")\n",
    "\n",
    "best_aic_row = grid_results.iloc[0]\n",
    "best_bic_row = grid_results.sort_values(\"bic\").iloc[0]\n",
    "\n",
    "order_aic = (int(best_aic_row.p), int(best_aic_row.d), int(best_aic_row.q))\n",
    "order_bic = (int(best_bic_row.p), int(best_bic_row.d), int(best_bic_row.q))\n",
    "\n",
    "print(f\"Best by AIC: ARIMA{order_aic} (AIC={best_aic_row.aic:.2f}, BIC={best_aic_row.bic:.2f})\")\n",
    "print(f\"Best by BIC: ARIMA{order_bic} (AIC={best_bic_row.aic:.2f}, BIC={best_bic_row.bic:.2f})\")\n",
    "\n",
    "model_aic = ARIMA(df[\"log_price\"], order=order_aic).fit()\n",
    "model_bic = ARIMA(df[\"log_price\"], order=order_bic).fit()\n",
    "\n",
    "print(\"=== Summary (AIC winner) ===\")\n",
    "print(model_aic.summary())\n",
    "\n",
    "print(\"=== Summary (BIC winner) ===\")\n",
    "print(model_bic.summary())"
   ]
  },
  {
   "cell_type": "code",
   "execution_count": 18,
   "metadata": {
    "colab": {
     "base_uri": "https://localhost:8080/",
     "height": 838
    },
    "executionInfo": {
     "elapsed": 532,
     "status": "ok",
     "timestamp": 1761683337929,
     "user": {
      "displayName": "Tariere Timitimi",
      "userId": "04349166144191865504"
     },
     "user_tz": 240
    },
    "id": "JDoRI3dckVkn",
    "outputId": "74a91041-52e8-4701-b909-da08994387f5"
   },
   "outputs": [
    {
     "name": "stdout",
     "output_type": "stream",
     "text": [
      "ARIMA(0, 1, 0) (AIC winner): Ljung–Box test p-values\n",
      "    lb_pvalue\n",
      "10        1.0\n",
      "20        1.0\n",
      "30        1.0\n"
     ]
    },
    {
     "data": {
      "image/png": "[encoded data removed]",
      "text/plain": [
       "<Figure size 1200x400 with 2 Axes>"
      ]
     },
     "metadata": {},
     "output_type": "display_data"
    },
    {
     "name": "stdout",
     "output_type": "stream",
     "text": [
      "ARIMA(0, 1, 0) (BIC winner): Ljung–Box test p-values\n",
      "    lb_pvalue\n",
      "10        1.0\n",
      "20        1.0\n",
      "30        1.0\n"
     ]
    },
    {
     "data": {
      "image/png": "[encoded data removed]",
      "text/plain": [
       "<Figure size 1200x400 with 2 Axes>"
      ]
     },
     "metadata": {},
     "output_type": "display_data"
    }
   ],
   "source": [
    "def residual_diagnostics(fitted_model, title_prefix=\"Model\"):\n",
    "    resid = fitted_model.resid.dropna()\n",
    "\n",
    "    # Ljung-Box test for autocorrelation at multiple lags\n",
    "    lags = [10, 20, 30]\n",
    "    lb = acorr_ljungbox(resid, lags=lags, return_df=True)\n",
    "    print(f\"{title_prefix}: Ljung–Box test p-values\")\n",
    "    print(lb[[\"lb_pvalue\"]])\n",
    "\n",
    "    # Residual plots\n",
    "    fig, ax = plt.subplots(1, 2, figsize=(12, 4))\n",
    "    ax[0].plot(resid)\n",
    "    ax[0].set_title(f\"{title_prefix}: Residuals over time\"); ax[0].grid(True)\n",
    "\n",
    "    # QQ plot\n",
    "    from statsmodels.graphics.gofplots import qqplot\n",
    "    qqplot(resid, line='s', ax=ax[1])\n",
    "    ax[1].set_title(f\"{title_prefix}: Residuals QQ-plot\")\n",
    "    plt.show()\n",
    "\n",
    "residual_diagnostics(model_aic, title_prefix=f\"ARIMA{order_aic} (AIC winner)\")\n",
    "residual_diagnostics(model_bic, title_prefix=f\"ARIMA{order_bic} (BIC winner)\")"
   ]
  },
  {
   "cell_type": "code",
   "execution_count": 19,
   "metadata": {
    "colab": {
     "base_uri": "https://localhost:8080/",
     "height": 555
    },
    "executionInfo": {
     "elapsed": 417,
     "status": "ok",
     "timestamp": 1761683485585,
     "user": {
      "displayName": "Tariere Timitimi",
      "userId": "04349166144191865504"
     },
     "user_tz": 240
    },
    "id": "jhnd8l5mkhXk",
    "outputId": "419282a9-3149-47ed-dc37-9a5709145db4"
   },
   "outputs": [
    {
     "name": "stderr",
     "output_type": "stream",
     "text": [
      "/Library/Frameworks/Python.framework/Versions/3.13/lib/python3.13/site-packages/statsmodels/tsa/base/tsa_model.py:837: ValueWarning: No supported index is available. Prediction results will be given with an integer index beginning at `start`.\n",
      "  return get_prediction_index(\n",
      "/Library/Frameworks/Python.framework/Versions/3.13/lib/python3.13/site-packages/statsmodels/tsa/base/tsa_model.py:837: FutureWarning: No supported index is available. In the next version, calling this method in a model without a supported index will result in an exception.\n",
      "  return get_prediction_index(\n"
     ]
    },
    {
     "data": {
      "image/png": "[encoded data removed]",
      "text/plain": [
       "<Figure size 640x480 with 1 Axes>"
      ]
     },
     "metadata": {},
     "output_type": "display_data"
    }
   ],
   "source": [
    "steps_ahead = 30\n",
    "fcast = model_aic.get_forecast(steps=steps_ahead)\n",
    "\n",
    "# Forecasts are on the log-price scale; convert to price\n",
    "f_mean = fcast.predicted_mean\n",
    "f_ci = fcast.conf_int(alpha=0.05)\n",
    "\n",
    "# --- Ensure the forecast index is DatetimeIndex (avoid PeriodIndex converter conflicts) ---\n",
    "# Generate a correct future index starting after the last date of historical data\n",
    "last_hist_date = df.index[-1]\n",
    "future_idx = pd.bdate_range(start=last_hist_date, periods=steps_ahead + 1)[1:] # Start after last_hist_date, exclude the first date\n",
    "\n",
    "# Build price-scale series with the correct future DatetimeIndex using the values\n",
    "f_mean_price = pd.Series(np.exp(f_mean.values), index=future_idx, name=\"Forecast\")\n",
    "f_ci_price = pd.DataFrame(np.exp(f_ci.values), index=future_idx, columns=f_ci.columns)\n",
    "\n",
    "# Also ensure history uses DatetimeIndex\n",
    "hist = df[\"adjusted_close\"].iloc[-200:].copy()\n",
    "hist.index = pd.to_datetime(hist.index)\n",
    "\n",
    "# Plot without converter warnings\n",
    "ax = hist.plot(label=\"History\", grid=True, title=f\"{SYMBOL} - 30-Day Forecast (ARIMA{order_aic})\")\n",
    "f_mean_price.plot(ax=ax, label=\"Forecast\")\n",
    "ax.fill_between(future_idx, f_ci_price.iloc[:, 0].values, f_ci_price.iloc[:, 1].values, alpha=0.2, label=\"95% CI\")\n",
    "ax.set_xlabel(\"Date\")\n",
    "ax.set_ylabel(\"Price\"); ax.legend()\n",
    "plt.show()"
   ]
  },
  {
   "cell_type": "code",
   "execution_count": 20,
   "metadata": {
    "colab": {
     "base_uri": "https://localhost:8080/"
    },
    "executionInfo": {
     "elapsed": 525,
     "status": "ok",
     "timestamp": 1761683538834,
     "user": {
      "displayName": "Tariere Timitimi",
      "userId": "04349166144191865504"
     },
     "user_tz": 240
    },
    "id": "ZtTVWfnYkiN-",
    "outputId": "c2b4e024-acf5-4c57-8c69-8bccb9c5f4f5"
   },
   "outputs": [
    {
     "name": "stdout",
     "output_type": "stream",
     "text": [
      "Last Δlog-price: -0.0338116466997187\n",
      "AR(1) φ: 0.0\n",
      "MA(1) θ: 0.0\n"
     ]
    }
   ],
   "source": [
    "last_diff = df[\"log_price\"].diff().iloc[-1]\n",
    "phi = model_aic.params.get(\"ar.L1\", 0.0)\n",
    "theta = model_aic.params.get(\"ma.L1\", 0.0)\n",
    "\n",
    "print(\"Last Δlog-price:\", float(last_diff))\n",
    "print(\"AR(1) φ:\", float(phi))\n",
    "print(\"MA(1) θ:\", float(theta))"
   ]
  },
  {
   "cell_type": "markdown",
   "metadata": {
    "id": "nRM6HzFBkdpa"
   },
   "source": [
    "# MACD"
   ]
  },
  {
   "cell_type": "code",
   "execution_count": 22,
   "metadata": {
    "colab": {
     "base_uri": "https://localhost:8080/",
     "height": 643
    },
    "executionInfo": {
     "elapsed": 124,
     "status": "ok",
     "timestamp": 1761683563206,
     "user": {
      "displayName": "Tariere Timitimi",
      "userId": "04349166144191865504"
     },
     "user_tz": 240
    },
    "id": "a35b9158",
    "outputId": "8d9c6dd7-666c-494d-a7cb-176df86b2af1"
   },
   "outputs": [
    {
     "data": {
      "text/html": [
       "<div>\n",
       "<style scoped>\n",
       "    .dataframe tbody tr th:only-of-type {\n",
       "        vertical-align: middle;\n",
       "    }\n",
       "\n",
       "    .dataframe tbody tr th {\n",
       "        vertical-align: top;\n",
       "    }\n",
       "\n",
       "    .dataframe thead th {\n",
       "        text-align: right;\n",
       "    }\n",
       "</style>\n",
       "<table border=\"1\" class=\"dataframe\">\n",
       "  <thead>\n",
       "    <tr style=\"text-align: right;\">\n",
       "      <th></th>\n",
       "      <th>adjusted_close</th>\n",
       "      <th>ema_12</th>\n",
       "      <th>ema_26</th>\n",
       "      <th>macd_line</th>\n",
       "      <th>signal_line</th>\n",
       "      <th>macd_histogram</th>\n",
       "    </tr>\n",
       "    <tr>\n",
       "      <th>Date</th>\n",
       "      <th></th>\n",
       "      <th></th>\n",
       "      <th></th>\n",
       "      <th></th>\n",
       "      <th></th>\n",
       "      <th></th>\n",
       "    </tr>\n",
       "  </thead>\n",
       "  <tbody>\n",
       "    <tr>\n",
       "      <th>2025-06-02</th>\n",
       "      <td>137.362717</td>\n",
       "      <td>137.362717</td>\n",
       "      <td>137.362717</td>\n",
       "      <td>0.000000</td>\n",
       "      <td>0.000000</td>\n",
       "      <td>0.000000</td>\n",
       "    </tr>\n",
       "    <tr>\n",
       "      <th>2025-06-03</th>\n",
       "      <td>141.202225</td>\n",
       "      <td>137.953410</td>\n",
       "      <td>137.647125</td>\n",
       "      <td>0.306286</td>\n",
       "      <td>0.061257</td>\n",
       "      <td>0.245028</td>\n",
       "    </tr>\n",
       "    <tr>\n",
       "      <th>2025-06-04</th>\n",
       "      <td>141.902145</td>\n",
       "      <td>138.560908</td>\n",
       "      <td>137.962311</td>\n",
       "      <td>0.598597</td>\n",
       "      <td>0.168725</td>\n",
       "      <td>0.429872</td>\n",
       "    </tr>\n",
       "    <tr>\n",
       "      <th>2025-06-05</th>\n",
       "      <td>139.972397</td>\n",
       "      <td>138.778060</td>\n",
       "      <td>138.111207</td>\n",
       "      <td>0.666853</td>\n",
       "      <td>0.268351</td>\n",
       "      <td>0.398503</td>\n",
       "    </tr>\n",
       "    <tr>\n",
       "      <th>2025-06-06</th>\n",
       "      <td>141.702164</td>\n",
       "      <td>139.227922</td>\n",
       "      <td>138.377203</td>\n",
       "      <td>0.850719</td>\n",
       "      <td>0.384824</td>\n",
       "      <td>0.465894</td>\n",
       "    </tr>\n",
       "  </tbody>\n",
       "</table>\n",
       "</div>"
      ],
      "text/plain": [
       "            adjusted_close      ema_12      ema_26  macd_line  signal_line  \\\n",
       "Date                                                                         \n",
       "2025-06-02      137.362717  137.362717  137.362717   0.000000     0.000000   \n",
       "2025-06-03      141.202225  137.953410  137.647125   0.306286     0.061257   \n",
       "2025-06-04      141.902145  138.560908  137.962311   0.598597     0.168725   \n",
       "2025-06-05      139.972397  138.778060  138.111207   0.666853     0.268351   \n",
       "2025-06-06      141.702164  139.227922  138.377203   0.850719     0.384824   \n",
       "\n",
       "            macd_histogram  \n",
       "Date                        \n",
       "2025-06-02        0.000000  \n",
       "2025-06-03        0.245028  \n",
       "2025-06-04        0.429872  \n",
       "2025-06-05        0.398503  \n",
       "2025-06-06        0.465894  "
      ]
     },
     "metadata": {},
     "output_type": "display_data"
    },
    {
     "data": {
      "text/html": [
       "<div>\n",
       "<style scoped>\n",
       "    .dataframe tbody tr th:only-of-type {\n",
       "        vertical-align: middle;\n",
       "    }\n",
       "\n",
       "    .dataframe tbody tr th {\n",
       "        vertical-align: top;\n",
       "    }\n",
       "\n",
       "    .dataframe thead th {\n",
       "        text-align: right;\n",
       "    }\n",
       "</style>\n",
       "<table border=\"1\" class=\"dataframe\">\n",
       "  <thead>\n",
       "    <tr style=\"text-align: right;\">\n",
       "      <th></th>\n",
       "      <th>adjusted_close</th>\n",
       "      <th>ema_12</th>\n",
       "      <th>ema_26</th>\n",
       "      <th>macd_line</th>\n",
       "      <th>signal_line</th>\n",
       "      <th>macd_histogram</th>\n",
       "    </tr>\n",
       "    <tr>\n",
       "      <th>Date</th>\n",
       "      <th></th>\n",
       "      <th></th>\n",
       "      <th></th>\n",
       "      <th></th>\n",
       "      <th></th>\n",
       "      <th></th>\n",
       "    </tr>\n",
       "  </thead>\n",
       "  <tbody>\n",
       "    <tr>\n",
       "      <th>2025-08-25</th>\n",
       "      <td>179.799866</td>\n",
       "      <td>178.439271</td>\n",
       "      <td>175.727802</td>\n",
       "      <td>2.711469</td>\n",
       "      <td>3.940879</td>\n",
       "      <td>-1.229411</td>\n",
       "    </tr>\n",
       "    <tr>\n",
       "      <th>2025-08-26</th>\n",
       "      <td>181.759750</td>\n",
       "      <td>178.950114</td>\n",
       "      <td>176.174613</td>\n",
       "      <td>2.775501</td>\n",
       "      <td>3.707804</td>\n",
       "      <td>-0.932303</td>\n",
       "    </tr>\n",
       "    <tr>\n",
       "      <th>2025-08-27</th>\n",
       "      <td>181.589767</td>\n",
       "      <td>179.356214</td>\n",
       "      <td>176.575735</td>\n",
       "      <td>2.780479</td>\n",
       "      <td>3.522339</td>\n",
       "      <td>-0.741860</td>\n",
       "    </tr>\n",
       "    <tr>\n",
       "      <th>2025-08-28</th>\n",
       "      <td>180.159836</td>\n",
       "      <td>179.479848</td>\n",
       "      <td>176.841224</td>\n",
       "      <td>2.638624</td>\n",
       "      <td>3.345596</td>\n",
       "      <td>-0.706972</td>\n",
       "    </tr>\n",
       "    <tr>\n",
       "      <th>2025-08-29</th>\n",
       "      <td>174.170166</td>\n",
       "      <td>178.662974</td>\n",
       "      <td>176.643368</td>\n",
       "      <td>2.019606</td>\n",
       "      <td>3.080398</td>\n",
       "      <td>-1.060792</td>\n",
       "    </tr>\n",
       "  </tbody>\n",
       "</table>\n",
       "</div>"
      ],
      "text/plain": [
       "            adjusted_close      ema_12      ema_26  macd_line  signal_line  \\\n",
       "Date                                                                         \n",
       "2025-08-25      179.799866  178.439271  175.727802   2.711469     3.940879   \n",
       "2025-08-26      181.759750  178.950114  176.174613   2.775501     3.707804   \n",
       "2025-08-27      181.589767  179.356214  176.575735   2.780479     3.522339   \n",
       "2025-08-28      180.159836  179.479848  176.841224   2.638624     3.345596   \n",
       "2025-08-29      174.170166  178.662974  176.643368   2.019606     3.080398   \n",
       "\n",
       "            macd_histogram  \n",
       "Date                        \n",
       "2025-08-25       -1.229411  \n",
       "2025-08-26       -0.932303  \n",
       "2025-08-27       -0.741860  \n",
       "2025-08-28       -0.706972  \n",
       "2025-08-29       -1.060792  "
      ]
     },
     "metadata": {},
     "output_type": "display_data"
    }
   ],
   "source": [
    "# Calculate MACD components\n",
    "# 12-period EMA\n",
    "df['ema_12'] = df['adjusted_close'].ewm(span=12, adjust=False).mean()\n",
    "\n",
    "# 26-period EMA\n",
    "df['ema_26'] = df['adjusted_close'].ewm(span=26, adjust=False).mean()\n",
    "\n",
    "# MACD Line\n",
    "df['macd_line'] = df['ema_12'] - df['ema_26']\n",
    "\n",
    "# Calculate Signal Line (9-period EMA of MACD Line)\n",
    "df['signal_line'] = df['macd_line'].ewm(span=9, adjust=False).mean()\n",
    "\n",
    "# Calculate MACD Histogram\n",
    "df['macd_histogram'] = df['macd_line'] - df['signal_line']\n",
    "\n",
    "display(df[['adjusted_close', 'ema_12', 'ema_26', 'macd_line', 'signal_line', 'macd_histogram']].head())\n",
    "display(df[['adjusted_close', 'ema_12', 'ema_26', 'macd_line', 'signal_line', 'macd_histogram']].tail())"
   ]
  },
  {
   "cell_type": "code",
   "execution_count": 24,
   "metadata": {
    "colab": {
     "base_uri": "https://localhost:8080/",
     "height": 341
    },
    "executionInfo": {
     "elapsed": 337,
     "status": "ok",
     "timestamp": 1761683624016,
     "user": {
      "displayName": "Tariere Timitimi",
      "userId": "04349166144191865504"
     },
     "user_tz": 240
    },
    "id": "49739d0c",
    "outputId": "28865265-0f93-482f-88ed-b43056026598"
   },
   "outputs": [
    {
     "data": {
      "image/png": "[encoded data removed]",
      "text/plain": [
       "<Figure size 1200x600 with 1 Axes>"
      ]
     },
     "metadata": {},
     "output_type": "display_data"
    }
   ],
   "source": [
    "# Plot MACD components\n",
    "plt.figure(figsize=(12, 6))\n",
    "plt.plot(df.index, df['macd_line'], label='MACD Line', color='blue')\n",
    "plt.plot(df.index, df['signal_line'], label='Signal Line', color='red')\n",
    "plt.bar(df.index, df['macd_histogram'], label='MACD Histogram', color='green', alpha=0.5)\n",
    "\n",
    "plt.title(f'{SYMBOL} - MACD Indicator')\n",
    "plt.xlabel('Date')\n",
    "plt.ylabel('Value')\n",
    "plt.legend()\n",
    "plt.grid(True)\n",
    "plt.show()"
   ]
  },
  {
   "cell_type": "code",
   "execution_count": 27,
   "metadata": {
    "colab": {
     "base_uri": "https://localhost:8080/",
     "height": 643
    },
    "executionInfo": {
     "elapsed": 522,
     "status": "ok",
     "timestamp": 1761683687444,
     "user": {
      "displayName": "Tariere Timitimi",
      "userId": "04349166144191865504"
     },
     "user_tz": 240
    },
    "id": "Sj8HeNsoRlOL",
    "outputId": "5b622d1c-d047-4f0a-e07a-914ab2ec0904"
   },
   "outputs": [
    {
     "data": {
      "text/html": [
       "<div>\n",
       "<style scoped>\n",
       "    .dataframe tbody tr th:only-of-type {\n",
       "        vertical-align: middle;\n",
       "    }\n",
       "\n",
       "    .dataframe tbody tr th {\n",
       "        vertical-align: top;\n",
       "    }\n",
       "\n",
       "    .dataframe thead th {\n",
       "        text-align: right;\n",
       "    }\n",
       "</style>\n",
       "<table border=\"1\" class=\"dataframe\">\n",
       "  <thead>\n",
       "    <tr style=\"text-align: right;\">\n",
       "      <th></th>\n",
       "      <th>open</th>\n",
       "      <th>high</th>\n",
       "      <th>low</th>\n",
       "      <th>close</th>\n",
       "      <th>adjusted_close</th>\n",
       "      <th>volume</th>\n",
       "    </tr>\n",
       "    <tr>\n",
       "      <th>Date</th>\n",
       "      <th></th>\n",
       "      <th></th>\n",
       "      <th></th>\n",
       "      <th></th>\n",
       "      <th></th>\n",
       "      <th></th>\n",
       "    </tr>\n",
       "  </thead>\n",
       "  <tbody>\n",
       "    <tr>\n",
       "      <th>2025-09-02</th>\n",
       "      <td>170.000000</td>\n",
       "      <td>172.380005</td>\n",
       "      <td>167.220001</td>\n",
       "      <td>170.779999</td>\n",
       "      <td>170.770370</td>\n",
       "      <td>231164900</td>\n",
       "    </tr>\n",
       "    <tr>\n",
       "      <th>2025-09-03</th>\n",
       "      <td>171.059998</td>\n",
       "      <td>172.410004</td>\n",
       "      <td>168.880005</td>\n",
       "      <td>170.619995</td>\n",
       "      <td>170.610382</td>\n",
       "      <td>164424900</td>\n",
       "    </tr>\n",
       "    <tr>\n",
       "      <th>2025-09-04</th>\n",
       "      <td>170.570007</td>\n",
       "      <td>171.860001</td>\n",
       "      <td>169.410004</td>\n",
       "      <td>171.660004</td>\n",
       "      <td>171.650330</td>\n",
       "      <td>141670100</td>\n",
       "    </tr>\n",
       "    <tr>\n",
       "      <th>2025-09-05</th>\n",
       "      <td>168.029999</td>\n",
       "      <td>169.029999</td>\n",
       "      <td>164.070007</td>\n",
       "      <td>167.020004</td>\n",
       "      <td>167.010590</td>\n",
       "      <td>224441400</td>\n",
       "    </tr>\n",
       "    <tr>\n",
       "      <th>2025-09-08</th>\n",
       "      <td>167.550003</td>\n",
       "      <td>170.960007</td>\n",
       "      <td>167.350006</td>\n",
       "      <td>168.309998</td>\n",
       "      <td>168.300507</td>\n",
       "      <td>163769100</td>\n",
       "    </tr>\n",
       "  </tbody>\n",
       "</table>\n",
       "</div>"
      ],
      "text/plain": [
       "                  open        high         low       close  adjusted_close  \\\n",
       "Date                                                                         \n",
       "2025-09-02  170.000000  172.380005  167.220001  170.779999      170.770370   \n",
       "2025-09-03  171.059998  172.410004  168.880005  170.619995      170.610382   \n",
       "2025-09-04  170.570007  171.860001  169.410004  171.660004      171.650330   \n",
       "2025-09-05  168.029999  169.029999  164.070007  167.020004      167.010590   \n",
       "2025-09-08  167.550003  170.960007  167.350006  168.309998      168.300507   \n",
       "\n",
       "               volume  \n",
       "Date                   \n",
       "2025-09-02  231164900  \n",
       "2025-09-03  164424900  \n",
       "2025-09-04  141670100  \n",
       "2025-09-05  224441400  \n",
       "2025-09-08  163769100  "
      ]
     },
     "metadata": {},
     "output_type": "display_data"
    },
    {
     "data": {
      "text/html": [
       "<div>\n",
       "<style scoped>\n",
       "    .dataframe tbody tr th:only-of-type {\n",
       "        vertical-align: middle;\n",
       "    }\n",
       "\n",
       "    .dataframe tbody tr th {\n",
       "        vertical-align: top;\n",
       "    }\n",
       "\n",
       "    .dataframe thead th {\n",
       "        text-align: right;\n",
       "    }\n",
       "</style>\n",
       "<table border=\"1\" class=\"dataframe\">\n",
       "  <thead>\n",
       "    <tr style=\"text-align: right;\">\n",
       "      <th></th>\n",
       "      <th>open</th>\n",
       "      <th>high</th>\n",
       "      <th>low</th>\n",
       "      <th>close</th>\n",
       "      <th>adjusted_close</th>\n",
       "      <th>volume</th>\n",
       "    </tr>\n",
       "    <tr>\n",
       "      <th>Date</th>\n",
       "      <th></th>\n",
       "      <th></th>\n",
       "      <th></th>\n",
       "      <th></th>\n",
       "      <th></th>\n",
       "      <th></th>\n",
       "    </tr>\n",
       "  </thead>\n",
       "  <tbody>\n",
       "    <tr>\n",
       "      <th>2025-10-03</th>\n",
       "      <td>189.190002</td>\n",
       "      <td>190.360001</td>\n",
       "      <td>185.380005</td>\n",
       "      <td>187.619995</td>\n",
       "      <td>187.619995</td>\n",
       "      <td>137596900</td>\n",
       "    </tr>\n",
       "    <tr>\n",
       "      <th>2025-10-06</th>\n",
       "      <td>185.500000</td>\n",
       "      <td>187.229996</td>\n",
       "      <td>183.330002</td>\n",
       "      <td>185.539993</td>\n",
       "      <td>185.539993</td>\n",
       "      <td>157678100</td>\n",
       "    </tr>\n",
       "    <tr>\n",
       "      <th>2025-10-07</th>\n",
       "      <td>186.229996</td>\n",
       "      <td>189.059998</td>\n",
       "      <td>184.000000</td>\n",
       "      <td>185.039993</td>\n",
       "      <td>185.039993</td>\n",
       "      <td>140088000</td>\n",
       "    </tr>\n",
       "    <tr>\n",
       "      <th>2025-10-08</th>\n",
       "      <td>186.570007</td>\n",
       "      <td>189.600006</td>\n",
       "      <td>186.539993</td>\n",
       "      <td>189.110001</td>\n",
       "      <td>189.110001</td>\n",
       "      <td>130168900</td>\n",
       "    </tr>\n",
       "    <tr>\n",
       "      <th>2025-10-09</th>\n",
       "      <td>192.229996</td>\n",
       "      <td>195.300003</td>\n",
       "      <td>191.059998</td>\n",
       "      <td>192.570007</td>\n",
       "      <td>192.570007</td>\n",
       "      <td>182997200</td>\n",
       "    </tr>\n",
       "  </tbody>\n",
       "</table>\n",
       "</div>"
      ],
      "text/plain": [
       "                  open        high         low       close  adjusted_close  \\\n",
       "Date                                                                         \n",
       "2025-10-03  189.190002  190.360001  185.380005  187.619995      187.619995   \n",
       "2025-10-06  185.500000  187.229996  183.330002  185.539993      185.539993   \n",
       "2025-10-07  186.229996  189.059998  184.000000  185.039993      185.039993   \n",
       "2025-10-08  186.570007  189.600006  186.539993  189.110001      189.110001   \n",
       "2025-10-09  192.229996  195.300003  191.059998  192.570007      192.570007   \n",
       "\n",
       "               volume  \n",
       "Date                   \n",
       "2025-10-03  137596900  \n",
       "2025-10-06  157678100  \n",
       "2025-10-07  140088000  \n",
       "2025-10-08  130168900  \n",
       "2025-10-09  182997200  "
      ]
     },
     "metadata": {},
     "output_type": "display_data"
    }
   ],
   "source": [
    "# Fetch actual data for the forecast period\n",
    "forecast_start_date = f_mean_price.index[0].strftime('%Y-%m-%d')\n",
    "forecast_end_date = f_mean_price.index[-1].strftime('%Y-%m-%d')\n",
    "\n",
    "try:\n",
    "    df_actual = fetch_alpha_vantage_daily_adjusted(SYMBOL,\n",
    "                                                   ALPHAVANTAGE_API_KEY,\n",
    "                                                   output_size=\"full\", # Need full history to cover the future dates\n",
    "                                                   start_date=forecast_start_date,\n",
    "                                                   end_date=forecast_end_date)\n",
    "except:\n",
    "    # Rollback to Yahoo Finance API if Alpha Vantage fails\n",
    "    df_actual = get_stock_data(SYMBOL, start_date=forecast_start_date, end_date=forecast_end_date)\n",
    "\n",
    "display(df_actual.head())\n",
    "display(df_actual.tail())"
   ]
  },
  {
   "cell_type": "code",
   "execution_count": 28,
   "metadata": {
    "colab": {
     "base_uri": "https://localhost:8080/",
     "height": 934
    },
    "executionInfo": {
     "elapsed": 11,
     "status": "ok",
     "timestamp": 1761683699875,
     "user": {
      "displayName": "Tariere Timitimi",
      "userId": "04349166144191865504"
     },
     "user_tz": 240
    },
    "id": "n75vtJPjR0cc",
    "outputId": "400254dd-c7ca-4fa2-e0aa-d1ab21b41616"
   },
   "outputs": [
    {
     "name": "stdout",
     "output_type": "stream",
     "text": [
      "Number of overlapping dates for comparison: 28\n"
     ]
    },
    {
     "data": {
      "text/html": [
       "<div>\n",
       "<style scoped>\n",
       "    .dataframe tbody tr th:only-of-type {\n",
       "        vertical-align: middle;\n",
       "    }\n",
       "\n",
       "    .dataframe tbody tr th {\n",
       "        vertical-align: top;\n",
       "    }\n",
       "\n",
       "    .dataframe thead th {\n",
       "        text-align: right;\n",
       "    }\n",
       "</style>\n",
       "<table border=\"1\" class=\"dataframe\">\n",
       "  <thead>\n",
       "    <tr style=\"text-align: right;\">\n",
       "      <th></th>\n",
       "      <th>Forecast</th>\n",
       "      <th>Actual</th>\n",
       "    </tr>\n",
       "  </thead>\n",
       "  <tbody>\n",
       "    <tr>\n",
       "      <th>2025-09-02</th>\n",
       "      <td>174.170166</td>\n",
       "      <td>170.770370</td>\n",
       "    </tr>\n",
       "    <tr>\n",
       "      <th>2025-09-03</th>\n",
       "      <td>174.170166</td>\n",
       "      <td>170.610382</td>\n",
       "    </tr>\n",
       "    <tr>\n",
       "      <th>2025-09-04</th>\n",
       "      <td>174.170166</td>\n",
       "      <td>171.650330</td>\n",
       "    </tr>\n",
       "    <tr>\n",
       "      <th>2025-09-05</th>\n",
       "      <td>174.170166</td>\n",
       "      <td>167.010590</td>\n",
       "    </tr>\n",
       "    <tr>\n",
       "      <th>2025-09-08</th>\n",
       "      <td>174.170166</td>\n",
       "      <td>168.300507</td>\n",
       "    </tr>\n",
       "    <tr>\n",
       "      <th>2025-09-09</th>\n",
       "      <td>174.170166</td>\n",
       "      <td>170.750366</td>\n",
       "    </tr>\n",
       "    <tr>\n",
       "      <th>2025-09-10</th>\n",
       "      <td>174.170166</td>\n",
       "      <td>177.320007</td>\n",
       "    </tr>\n",
       "    <tr>\n",
       "      <th>2025-09-11</th>\n",
       "      <td>174.170166</td>\n",
       "      <td>177.169998</td>\n",
       "    </tr>\n",
       "    <tr>\n",
       "      <th>2025-09-12</th>\n",
       "      <td>174.170166</td>\n",
       "      <td>177.820007</td>\n",
       "    </tr>\n",
       "    <tr>\n",
       "      <th>2025-09-15</th>\n",
       "      <td>174.170166</td>\n",
       "      <td>177.750000</td>\n",
       "    </tr>\n",
       "    <tr>\n",
       "      <th>2025-09-16</th>\n",
       "      <td>174.170166</td>\n",
       "      <td>174.880005</td>\n",
       "    </tr>\n",
       "    <tr>\n",
       "      <th>2025-09-17</th>\n",
       "      <td>174.170166</td>\n",
       "      <td>170.289993</td>\n",
       "    </tr>\n",
       "    <tr>\n",
       "      <th>2025-09-18</th>\n",
       "      <td>174.170166</td>\n",
       "      <td>176.240005</td>\n",
       "    </tr>\n",
       "    <tr>\n",
       "      <th>2025-09-19</th>\n",
       "      <td>174.170166</td>\n",
       "      <td>176.669998</td>\n",
       "    </tr>\n",
       "    <tr>\n",
       "      <th>2025-09-22</th>\n",
       "      <td>174.170166</td>\n",
       "      <td>183.610001</td>\n",
       "    </tr>\n",
       "    <tr>\n",
       "      <th>2025-09-23</th>\n",
       "      <td>174.170166</td>\n",
       "      <td>178.429993</td>\n",
       "    </tr>\n",
       "    <tr>\n",
       "      <th>2025-09-24</th>\n",
       "      <td>174.170166</td>\n",
       "      <td>176.970001</td>\n",
       "    </tr>\n",
       "    <tr>\n",
       "      <th>2025-09-25</th>\n",
       "      <td>174.170166</td>\n",
       "      <td>177.690002</td>\n",
       "    </tr>\n",
       "    <tr>\n",
       "      <th>2025-09-26</th>\n",
       "      <td>174.170166</td>\n",
       "      <td>178.190002</td>\n",
       "    </tr>\n",
       "    <tr>\n",
       "      <th>2025-09-29</th>\n",
       "      <td>174.170166</td>\n",
       "      <td>181.850006</td>\n",
       "    </tr>\n",
       "    <tr>\n",
       "      <th>2025-09-30</th>\n",
       "      <td>174.170166</td>\n",
       "      <td>186.580002</td>\n",
       "    </tr>\n",
       "    <tr>\n",
       "      <th>2025-10-01</th>\n",
       "      <td>174.170166</td>\n",
       "      <td>187.240005</td>\n",
       "    </tr>\n",
       "    <tr>\n",
       "      <th>2025-10-02</th>\n",
       "      <td>174.170166</td>\n",
       "      <td>188.889999</td>\n",
       "    </tr>\n",
       "    <tr>\n",
       "      <th>2025-10-03</th>\n",
       "      <td>174.170166</td>\n",
       "      <td>187.619995</td>\n",
       "    </tr>\n",
       "    <tr>\n",
       "      <th>2025-10-06</th>\n",
       "      <td>174.170166</td>\n",
       "      <td>185.539993</td>\n",
       "    </tr>\n",
       "    <tr>\n",
       "      <th>2025-10-07</th>\n",
       "      <td>174.170166</td>\n",
       "      <td>185.039993</td>\n",
       "    </tr>\n",
       "    <tr>\n",
       "      <th>2025-10-08</th>\n",
       "      <td>174.170166</td>\n",
       "      <td>189.110001</td>\n",
       "    </tr>\n",
       "    <tr>\n",
       "      <th>2025-10-09</th>\n",
       "      <td>174.170166</td>\n",
       "      <td>192.570007</td>\n",
       "    </tr>\n",
       "  </tbody>\n",
       "</table>\n",
       "</div>"
      ],
      "text/plain": [
       "              Forecast      Actual\n",
       "2025-09-02  174.170166  170.770370\n",
       "2025-09-03  174.170166  170.610382\n",
       "2025-09-04  174.170166  171.650330\n",
       "2025-09-05  174.170166  167.010590\n",
       "2025-09-08  174.170166  168.300507\n",
       "2025-09-09  174.170166  170.750366\n",
       "2025-09-10  174.170166  177.320007\n",
       "2025-09-11  174.170166  177.169998\n",
       "2025-09-12  174.170166  177.820007\n",
       "2025-09-15  174.170166  177.750000\n",
       "2025-09-16  174.170166  174.880005\n",
       "2025-09-17  174.170166  170.289993\n",
       "2025-09-18  174.170166  176.240005\n",
       "2025-09-19  174.170166  176.669998\n",
       "2025-09-22  174.170166  183.610001\n",
       "2025-09-23  174.170166  178.429993\n",
       "2025-09-24  174.170166  176.970001\n",
       "2025-09-25  174.170166  177.690002\n",
       "2025-09-26  174.170166  178.190002\n",
       "2025-09-29  174.170166  181.850006\n",
       "2025-09-30  174.170166  186.580002\n",
       "2025-10-01  174.170166  187.240005\n",
       "2025-10-02  174.170166  188.889999\n",
       "2025-10-03  174.170166  187.619995\n",
       "2025-10-06  174.170166  185.539993\n",
       "2025-10-07  174.170166  185.039993\n",
       "2025-10-08  174.170166  189.110001\n",
       "2025-10-09  174.170166  192.570007"
      ]
     },
     "metadata": {},
     "output_type": "display_data"
    }
   ],
   "source": [
    "# Compare forecast with actual data\n",
    "# Ensure both series have the same index for comparison\n",
    "# Use only the dates where both forecast and actual data exist\n",
    "comparison_df = pd.DataFrame({\n",
    "    'Forecast': f_mean_price,\n",
    "    'Actual': df_actual['adjusted_close']\n",
    "}).dropna() # Drop dates where either forecast or actual data is missing\n",
    "\n",
    "print(f\"Number of overlapping dates for comparison: {len(comparison_df)}\")\n",
    "display(comparison_df)"
   ]
  },
  {
   "cell_type": "code",
   "execution_count": 29,
   "metadata": {
    "colab": {
     "base_uri": "https://localhost:8080/"
    },
    "executionInfo": {
     "elapsed": 368,
     "status": "ok",
     "timestamp": 1761683724590,
     "user": {
      "displayName": "Tariere Timitimi",
      "userId": "04349166144191865504"
     },
     "user_tz": 240
    },
    "id": "05863374",
    "outputId": "8ef52a50-7ea7-42b9-8841-f2cc59990d64"
   },
   "outputs": [
    {
     "name": "stdout",
     "output_type": "stream",
     "text": [
      "\n",
      "Forecast Accuracy Metrics (ARIMA(0, 1, 0)):\n",
      "Mean Absolute Error (MAE): 6.76\n",
      "Root Mean Squared Error (RMSE): 8.31\n"
     ]
    }
   ],
   "source": [
    "from sklearn.metrics import mean_absolute_error, mean_squared_error\n",
    "\n",
    "if len(comparison_df) > 0:\n",
    "    # Calculate evaluation metrics\n",
    "    mae = mean_absolute_error(comparison_df['Actual'], comparison_df['Forecast'])\n",
    "    rmse = np.sqrt(mean_squared_error(comparison_df['Actual'], comparison_df['Forecast']))\n",
    "\n",
    "    print(f\"\\nForecast Accuracy Metrics (ARIMA{order_aic}):\")\n",
    "    print(f\"Mean Absolute Error (MAE): {mae:.2f}\")\n",
    "    print(f\"Root Mean Squared Error (RMSE): {rmse:.2f}\")\n",
    "else:\n",
    "    print(\"\\nNo overlapping dates between forecast and actual data to calculate accuracy metrics.\")"
   ]
  },
  {
   "cell_type": "code",
   "execution_count": 30,
   "metadata": {
    "colab": {
     "base_uri": "https://localhost:8080/",
     "height": 335
    },
    "executionInfo": {
     "elapsed": 375,
     "status": "ok",
     "timestamp": 1761683755984,
     "user": {
      "displayName": "Tariere Timitimi",
      "userId": "04349166144191865504"
     },
     "user_tz": 240
    },
    "id": "eb63f446",
    "outputId": "2ac06e28-3f05-42e4-b28f-2b8b9ada4288"
   },
   "outputs": [
    {
     "data": {
      "image/png": "[encoded data removed]",
      "text/plain": [
       "<Figure size 1400x700 with 1 Axes>"
      ]
     },
     "metadata": {},
     "output_type": "display_data"
    }
   ],
   "source": [
    "# Plot the historical data, forecast, and actual data for the forecast period\n",
    "plt.figure(figsize=(14, 7))\n",
    "plt.plot(hist.index, hist.values, label='Historical Data', color='blue')\n",
    "plt.plot(f_mean_price.index, f_mean_price.values, label='ARIMA Forecast', color='red', linestyle='--')\n",
    "plt.plot(comparison_df.index, comparison_df['Actual'].values, label='Actual Data', color='green', linestyle='-.')\n",
    "\n",
    "# Add confidence interval\n",
    "plt.fill_between(f_ci_price.index, f_ci_price.iloc[:, 0], f_ci_price.iloc[:, 1], color='red', alpha=0.1, label='95% Confidence Interval')\n",
    "\n",
    "\n",
    "plt.title(f'{SYMBOL} - ARIMA Forecast vs Actual Adjusted Close Price')\n",
    "plt.xlabel('Date')\n",
    "plt.ylabel('Price')\n",
    "plt.legend()\n",
    "plt.grid(True)\n",
    "plt.show()"
   ]
  },
  {
   "cell_type": "markdown",
   "metadata": {
    "id": "e090e405"
   },
   "source": [
    "# Conclusion: ARIMA Model Limitations on High-Growth Stocks (NVDA)\n",
    "\n",
    "The ARIMA model, despite achieving stationarity, failed to accurately forecast NVDA's stock price, exhibiting a significant divergence from the actual trend (MAE/RMSE of [Insert Values]).\n",
    "\n",
    "**Root Cause:** The failure is attributed to the stock being dominated by **exogenous, non-linear market shocks**, specifically massive, unpredictable growth in the Data Center segment driven by the **Generative AI boom** and **record earnings forecasts** (e.g., Q1/Q2 Fiscal 2025 results).\n",
    "\n",
    "**Key Takeaway:** Classical time-series models like ARIMA are inadequate for capturing the sudden, exponential shifts typical of high-volatility, event-driven stocks like NVDA. This necessitates the use of more complex **Machine Learning models (e.g., LSTMs)** or **ARIMAX** models augmented with external regressors (like sentiment or earnings data)."
   ]
  }
 ],
 "metadata": {
  "colab": {
   "provenance": []
  },
  "kernelspec": {
   "display_name": "Python 3",
   "name": "python3"
  },
  "language_info": {
   "codemirror_mode": {
    "name": "ipython",
    "version": 3
   },
   "file_extension": ".py",
   "mimetype": "text/x-python",
   "name": "python",
   "nbconvert_exporter": "python",
   "pygments_lexer": "ipython3",
   "version": "3.13.1"
  }
 },
 "nbformat": 4,
 "nbformat_minor": 0
}
